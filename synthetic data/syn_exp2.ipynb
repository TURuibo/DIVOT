{
 "cells": [
  {
   "cell_type": "markdown",
   "metadata": {},
   "source": [
    "# DIVOT using debiasing functions"
   ]
  },
  {
   "cell_type": "code",
   "execution_count": 1,
   "metadata": {},
   "outputs": [
    {
     "name": "stderr",
     "output_type": "stream",
     "text": [
      "/Library/Frameworks/Python.framework/Versions/3.7/lib/python3.7/site-packages/jax/config.py:163: UserWarning: enable_omnistaging() is a no-op in JAX versions 0.2.12 and higher;\n",
      "see https://github.com/google/jax/blob/master/design_notes/omnistaging.md\n",
      "  \"enable_omnistaging() is a no-op in JAX versions 0.2.12 and higher;\\n\"\n"
     ]
    }
   ],
   "source": [
    "from util import *\n",
    "from jax import grad, value_and_grad, jit,vmap, random\n",
    "import sys\n"
   ]
  },
  {
   "cell_type": "code",
   "execution_count": 2,
   "metadata": {},
   "outputs": [],
   "source": [
    "@jit\n",
    "def loss_jax(params, df_batch,un):\n",
    "    x,y = df_batch[:,0],df_batch[:,1]\n",
    "    vec = jnp.sort(y-params['w']*x) - jnp.sort(params['theta']*un)\n",
    "    return jnp.var(vec)\n",
    "\n",
    "val_and_grad = value_and_grad(loss_jax)\n",
    "vmap_val_and_grad_inner = vmap(val_and_grad, in_axes=(None,None,1),out_axes=0)  \n",
    "vmap_val_and_grad_outer = vmap(vmap_val_and_grad_inner, in_axes=(None,0,2),out_axes=0)  \n",
    "vmap_val_and_grad_outer = jit(vmap_val_and_grad_outer)"
   ]
  },
  {
   "cell_type": "code",
   "execution_count": 3,
   "metadata": {},
   "outputs": [],
   "source": [
    "def batch_test(df,resolution,npos):\n",
    "    nghM = get_neighbor_matrix_fixed_num(df, resolution)\n",
    "    batches = get_batches(data=df, neighborM=nghM, resolution=resolution, npos=npos)\n",
    "    batches = jnp.array(batches)\n",
    "\n",
    "    df_batch = batches[0]\n",
    "    batch_sz,_ = df_batch.shape\n",
    "    return batches,batch_sz"
   ]
  },
  {
   "cell_type": "code",
   "execution_count": 4,
   "metadata": {},
   "outputs": [],
   "source": [
    "def test(batches,key_seed=42,step_sz = 1.0,exp = 200,nrep = 100):\n",
    "    key = random.PRNGKey(key_seed)\n",
    "    df_batch = batches[0]\n",
    "    batch_sz,_ = df_batch.shape\n",
    "    \n",
    "    theta =0.2\n",
    "    w = 0.1\n",
    "    params = {'w': w, 'theta':theta}\n",
    "\n",
    "    loss_res = []\n",
    "    params_res = []\n",
    "    w_res = []\n",
    "    t_res = []\n",
    "    gradt_res = []\n",
    "    gradw_res = []\n",
    "\n",
    "    for j in range(exp):\n",
    "        \n",
    "        key, subkey = random.split(key)\n",
    "        un = random.uniform(subkey,shape=(batch_sz,nrep,len(batches)),minval=0.0, maxval=1.0)\n",
    "        loss_val,grad = vmap_val_and_grad_outer(params, batches, un)\n",
    "\n",
    "        ave_loss = np.mean(loss_val)\n",
    "        ave_grad = tree_map(np.mean, grad)\n",
    "\n",
    "        params['w'] -= 1*step_sz * ave_grad['w']\n",
    "        params['theta'] -= step_sz * ave_grad['theta']\n",
    "\n",
    "        loss_res.append(ave_loss)\n",
    "        w_res.append(params['w'])\n",
    "        t_res.append(params['theta'])\n",
    "        gradw_res.append(ave_grad['w'])\n",
    "        gradt_res.append(ave_grad['theta'])\n",
    "        if j%10==0:\n",
    "            sys.stdout.write(\"\\rDoing thing %i\" % j)  \n",
    "    return loss_res,w_res,t_res,gradw_res,gradt_res"
   ]
  },
  {
   "cell_type": "markdown",
   "metadata": {},
   "source": [
    "# Data generation"
   ]
  },
  {
   "cell_type": "code",
   "execution_count": 5,
   "metadata": {},
   "outputs": [],
   "source": [
    "# Set problem dimensions\n",
    "nsamples = 100\n",
    "resolution = 0.6\n",
    "npos = 100\n",
    "\n",
    "def f_t(x):\n",
    "    # if x < 0:\n",
    "    #     return 0.5*x**3 -x\n",
    "    # else:   \n",
    "    #     return 1 - 0.5*x**3 + x\n",
    "    return 1.0*x\n",
    "    # return jnp.sin(4*x)"
   ]
  },
  {
   "cell_type": "code",
   "execution_count": 6,
   "metadata": {},
   "outputs": [
    {
     "name": "stderr",
     "output_type": "stream",
     "text": [
      "WARNING:absl:No GPU/TPU found, falling back to CPU. (Set TF_CPP_MIN_LOG_LEVEL=0 and rerun for more info.)\n"
     ]
    },
    {
     "data": {
      "image/png": "[encoded data removed]",
      "text/plain": [
       "<Figure size 432x288 with 1 Axes>"
      ]
     },
     "metadata": {
      "needs_background": "light"
     },
     "output_type": "display_data"
    }
   ],
   "source": [
    "# Generate random ground truth W and b\n",
    "key = random.PRNGKey(10)\n",
    "k1, k2 = random.split(key)\n",
    "\n",
    "# Generate samples with additional noise\n",
    "ksample, knoise = random.split(k1)\n",
    "x_samples = random.uniform(k1,shape=(nsamples, 1),minval=-1, maxval=1)\n",
    "\n",
    "y_samples = np.array([f_t(x) for x in x_samples])\n",
    "y_samples += 1.0*random.uniform(knoise,shape=(nsamples, 1),minval=0.0, maxval=1.0)\n",
    "x= x_samples.reshape(-1)\n",
    "y= y_samples.reshape(-1)\n",
    "plt.scatter(x,y)\n",
    "\n",
    "n = nsamples\n",
    "df_c = np.zeros([n,2])\n",
    "df_c[:,0],df_c[:,1] = x,y\n",
    "df_sort_c = sortBycol(df_c,0)\n",
    "\n",
    "df_rv = np.zeros([n,2])\n",
    "df_rv[:,0],df_rv[:,1] = y,x\n",
    "df_sort_rv = sortBycol(df_rv,0)"
   ]
  },
  {
   "cell_type": "markdown",
   "metadata": {},
   "source": [
    "# Compute the minimal variance-based divergence measure in both directions"
   ]
  },
  {
   "cell_type": "code",
   "execution_count": 7,
   "metadata": {},
   "outputs": [
    {
     "name": "stdout",
     "output_type": "stream",
     "text": [
      "Doing thing 90"
     ]
    }
   ],
   "source": [
    "c_batches,c_batch_sz = batch_test(df_sort_c,resolution,npos)\n",
    "\n",
    "c_loss_res, c_w_res,c_t_res,c_gradw_res,c_gradt_res= test(c_batches, key_seed = 42, step_sz =1.0, exp = 100,nrep = 50)\n",
    "loss_c = np.mean(c_loss_res[-10:])/np.mean(c_t_res[-10:])**2\n",
    "\n",
    "rv_batches,rv_batch_sz = batch_test(df_sort_rv,resolution,npos)\n",
    "rv_loss_res, rv_w_res,rv_t_res,rv_gradw_res,rv_gradt_res= test(rv_batches,key_seed = 42, step_sz = 1.0, exp = 100,nrep = 50)\n",
    "loss_rv = np.mean(rv_loss_res[-10:])/np.mean(rv_t_res[-10:])**2"
   ]
  },
  {
   "cell_type": "markdown",
   "metadata": {},
   "source": [
    "## In the causal direction"
   ]
  },
  {
   "cell_type": "code",
   "execution_count": 8,
   "metadata": {},
   "outputs": [
    {
     "name": "stdout",
     "output_type": "stream",
     "text": [
      "0.002471824999201209\n"
     ]
    },
    {
     "data": {
      "text/plain": [
       "[<matplotlib.lines.Line2D at 0x7f9980c2e5f8>]"
      ]
     },
     "execution_count": 8,
     "metadata": {},
     "output_type": "execute_result"
    },
    {
     "data": {
      "image/png": "[encoded data removed]",
      "text/plain": [
       "<Figure size 1080x360 with 3 Axes>"
      ]
     },
     "metadata": {
      "needs_background": "light"
     },
     "output_type": "display_data"
    }
   ],
   "source": [
    "print(loss_c)\n",
    "plt.figure(figsize=(15,5))\n",
    "\n",
    "plt.subplot(1,3,1)\n",
    "plt.title('loss')\n",
    "plt.plot(np.arange(0,len(c_loss_res),1), c_loss_res)\n",
    "\n",
    "plt.subplot(1,3,2)\n",
    "plt.title('theta')\n",
    "plt.plot(np.arange(0,len(c_t_res),1), c_t_res)\n",
    "\n",
    "plt.subplot(1,3,3)\n",
    "plt.title('w')\n",
    "plt.plot(np.arange(0,len( c_w_res),1), c_w_res)"
   ]
  },
  {
   "cell_type": "markdown",
   "metadata": {},
   "source": [
    "## In the reverse direction"
   ]
  },
  {
   "cell_type": "code",
   "execution_count": 9,
   "metadata": {},
   "outputs": [
    {
     "name": "stdout",
     "output_type": "stream",
     "text": [
      "0.002500314981683979\n"
     ]
    },
    {
     "data": {
      "text/plain": [
       "[<matplotlib.lines.Line2D at 0x7f9930d64710>]"
      ]
     },
     "execution_count": 9,
     "metadata": {},
     "output_type": "execute_result"
    },
    {
     "data": {
      "image/png": "[encoded data removed]",
      "text/plain": [
       "<Figure size 1080x360 with 3 Axes>"
      ]
     },
     "metadata": {
      "needs_background": "light"
     },
     "output_type": "display_data"
    }
   ],
   "source": [
    "print(loss_rv)\n",
    "plt.figure(figsize=(15,5))\n",
    "\n",
    "plt.subplot(1,3,1)\n",
    "plt.title('loss')\n",
    "plt.plot(np.arange(0,len(rv_loss_res),1), rv_loss_res)\n",
    "\n",
    "plt.subplot(1,3,2)\n",
    "plt.title('theta')\n",
    "plt.plot(np.arange(0,len(rv_t_res),1), rv_t_res)\n",
    "\n",
    "plt.subplot(1,3,3)\n",
    "plt.title('w')\n",
    "plt.plot(np.arange(0,len( rv_w_res),1), rv_w_res) "
   ]
  },
  {
   "cell_type": "code",
   "execution_count": null,
   "metadata": {},
   "outputs": [],
   "source": []
  }
 ],
 "metadata": {
  "kernelspec": {
   "display_name": "Python 3.7.3 64-bit",
   "language": "python",
   "name": "python3"
  },
  "language_info": {
   "codemirror_mode": {
    "name": "ipython",
    "version": 3
   },
   "file_extension": ".py",
   "mimetype": "text/x-python",
   "name": "python",
   "nbconvert_exporter": "python",
   "pygments_lexer": "ipython3",
   "version": "3.7.3"
  },
  "orig_nbformat": 2,
  "vscode": {
   "interpreter": {
    "hash": "aee8b7b246df8f9039afb4144a1f6fd8d2ca17a180786b69acc140d282b71a49"
   }
  }
 },
 "nbformat": 4,
 "nbformat_minor": 2
}
